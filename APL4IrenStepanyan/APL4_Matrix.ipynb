{
 "cells": [
  {
   "cell_type": "code",
   "execution_count": 1,
   "id": "f6185a4b-1abe-42ce-a1af-7b50aa0409be",
   "metadata": {},
   "outputs": [],
   "source": [
    "    import numpy as np\n"
   ]
  },
  {
   "cell_type": "code",
   "execution_count": 2,
   "id": "4f3a68fd-d556-48dc-943b-67bf89f8e15c",
   "metadata": {},
   "outputs": [],
   "source": [
    "    two_d_matrix_data = [[1, 2, 3], [4, 5, 6], [7, 8, 9]]\n",
    "    two_d = np.array(two_d_matrix_data) #2d array"
   ]
  },
  {
   "cell_type": "code",
   "execution_count": 3,
   "id": "2a1c3f8b-47a5-413d-a021-45176b58a04c",
   "metadata": {},
   "outputs": [],
   "source": [
    "one_d = np.array([1, 2, 3]) #one dimenstional array"
   ]
  },
  {
   "cell_type": "code",
   "execution_count": 4,
   "id": "c55c8b26-bc54-4219-8a5c-ec49652f20b0",
   "metadata": {},
   "outputs": [],
   "source": [
    "three_d_matrix_data = [\n",
    "    [[1, 2, 3], [4, 5, 6], [5, 6, 7]], \n",
    "    [[6, 7, 8], [7, 8, 9], [8, 9, 10]] \n",
    "]\n",
    "\n",
    "three_d = np.array(three_d_matrix_data) #3d array"
   ]
  },
  {
   "cell_type": "code",
   "execution_count": 5,
   "id": "ae92cf3b-aa45-49a7-ac2f-a0b3aee680ab",
   "metadata": {},
   "outputs": [
    {
     "name": "stdout",
     "output_type": "stream",
     "text": [
      "[1 2 3]\n"
     ]
    }
   ],
   "source": [
    "print(one_d)"
   ]
  },
  {
   "cell_type": "code",
   "execution_count": 6,
   "id": "03a2c451-62fd-4b9d-a32c-a8f365f0e9d7",
   "metadata": {},
   "outputs": [
    {
     "name": "stdout",
     "output_type": "stream",
     "text": [
      "[[1 2 3]\n",
      " [4 5 6]\n",
      " [7 8 9]]\n"
     ]
    }
   ],
   "source": [
    "print(two_d)"
   ]
  },
  {
   "cell_type": "code",
   "execution_count": 7,
   "id": "1a3ac09a-e695-4469-b570-4a7cb538be9d",
   "metadata": {},
   "outputs": [
    {
     "name": "stdout",
     "output_type": "stream",
     "text": [
      "[[[ 1  2  3]\n",
      "  [ 4  5  6]\n",
      "  [ 5  6  7]]\n",
      "\n",
      " [[ 6  7  8]\n",
      "  [ 7  8  9]\n",
      "  [ 8  9 10]]]\n"
     ]
    }
   ],
   "source": [
    "print(three_d)"
   ]
  },
  {
   "cell_type": "code",
   "execution_count": 8,
   "id": "ffa5f203-a11a-4438-a526-418f67af8801",
   "metadata": {},
   "outputs": [
    {
     "data": {
      "text/plain": [
       "array([[[ 1,  2,  3],\n",
       "        [ 4,  5,  6],\n",
       "        [ 5,  6,  7]],\n",
       "\n",
       "       [[ 6,  7,  8],\n",
       "        [ 7,  8,  9],\n",
       "        [ 8,  9, 10]]])"
      ]
     },
     "execution_count": 8,
     "metadata": {},
     "output_type": "execute_result"
    }
   ],
   "source": [
    "three_d\n"
   ]
  },
  {
   "cell_type": "code",
   "execution_count": 9,
   "id": "efd00877-701d-4f70-9ac7-8627fddf99b1",
   "metadata": {},
   "outputs": [
    {
     "data": {
      "text/plain": [
       "3"
      ]
     },
     "execution_count": 9,
     "metadata": {},
     "output_type": "execute_result"
    }
   ],
   "source": [
    "three_d.ndim #shows in which dimention the array is\n"
   ]
  },
  {
   "cell_type": "code",
   "execution_count": 10,
   "id": "a0ef29b2-f16f-40e1-85fe-ddad6231973f",
   "metadata": {},
   "outputs": [
    {
     "data": {
      "text/plain": [
       "2"
      ]
     },
     "execution_count": 10,
     "metadata": {},
     "output_type": "execute_result"
    }
   ],
   "source": [
    "two_d.ndim"
   ]
  },
  {
   "cell_type": "code",
   "execution_count": 11,
   "id": "f604b460-d432-4321-897a-99efefa478f5",
   "metadata": {},
   "outputs": [
    {
     "data": {
      "text/plain": [
       "1"
      ]
     },
     "execution_count": 11,
     "metadata": {},
     "output_type": "execute_result"
    }
   ],
   "source": [
    "one_d.ndim"
   ]
  },
  {
   "cell_type": "code",
   "execution_count": 12,
   "id": "f4fb8306-9fec-4f2b-bab2-cbe10bd91891",
   "metadata": {},
   "outputs": [
    {
     "data": {
      "text/plain": [
       "(2, 3, 3)"
      ]
     },
     "execution_count": 12,
     "metadata": {},
     "output_type": "execute_result"
    }
   ],
   "source": [
    "three_d.shape #shows lines, rows, columes"
   ]
  },
  {
   "cell_type": "code",
   "execution_count": 13,
   "id": "058a24a1-9e86-4531-9f87-4139b2ebca24",
   "metadata": {},
   "outputs": [
    {
     "data": {
      "text/plain": [
       "(3, 3)"
      ]
     },
     "execution_count": 13,
     "metadata": {},
     "output_type": "execute_result"
    }
   ],
   "source": [
    "two_d.shape #shows row, columes\n"
   ]
  },
  {
   "cell_type": "code",
   "execution_count": 14,
   "id": "af1da7a4-f743-4bdf-b4d3-66e120613cf8",
   "metadata": {},
   "outputs": [
    {
     "data": {
      "text/plain": [
       "(3,)"
      ]
     },
     "execution_count": 14,
     "metadata": {},
     "output_type": "execute_result"
    }
   ],
   "source": [
    "one_d.shape #shows columes"
   ]
  },
  {
   "cell_type": "code",
   "execution_count": 16,
   "id": "5d35c558-5423-4992-baa4-cd6c628857b2",
   "metadata": {},
   "outputs": [],
   "source": [
    "# ete uzi matix-i erkarutyun kam laynutyun -> use shape and use length (columes) or laynutyun (rows) \n",
    "# if 3d -> shape's first atribute -> height "
   ]
  },
  {
   "cell_type": "code",
   "execution_count": 17,
   "id": "5d39efee-0451-41e3-9d0d-87220fd5be1b",
   "metadata": {},
   "outputs": [],
   "source": [
    "#new part 2\n"
   ]
  },
  {
   "cell_type": "code",
   "execution_count": 20,
   "id": "c99c89b0-ed76-4df9-9f06-10282d85c3bf",
   "metadata": {},
   "outputs": [
    {
     "data": {
      "text/plain": [
       "array([[  2,  66,  69, 172,  17, 120,  57, 134,  81, 192, 173, 244, 140,\n",
       "         11,  69,  92],\n",
       "       [200, 167, 137, 209, 152, 209, 131, 241, 196, 249, 218, 143,  27,\n",
       "        242, 225,  27],\n",
       "       [121, 249,  66,  53,  13, 189, 219, 206, 146,  82, 204, 131, 230,\n",
       "        164, 186, 243],\n",
       "       [ 74, 177, 210, 116, 124,  90,  30,  56, 229,  53,  74,  66, 133,\n",
       "        182,  53,  77],\n",
       "       [ 57, 144, 157, 143, 242,  92, 114, 138, 162,  23,  82,  28,  82,\n",
       "        186, 163,  95],\n",
       "       [148, 154, 131, 242, 137,  17,  21, 190, 180, 148, 194,  62, 158,\n",
       "         45, 197, 126],\n",
       "       [ 96,  40, 200, 223, 217, 175, 156,  90, 195, 241,  51, 224, 168,\n",
       "        164, 152,   4],\n",
       "       [ 14,  25,  38, 231, 223,  26,  61, 173,  83,  40,  13, 156, 128,\n",
       "         13, 238, 222],\n",
       "       [ 40, 108, 135, 244,  68,  77, 206, 111, 243,  33,   8,  78, 111,\n",
       "         91, 175, 212],\n",
       "       [215, 102, 145, 163, 108, 207, 238,  52,  93,  31,  89,  99, 230,\n",
       "        219,  35, 166],\n",
       "       [ 15, 125,  57, 224,  99, 172,   7, 209, 128, 198,  43, 135, 196,\n",
       "        219, 252,  50],\n",
       "       [ 73, 207, 233,  66,  79, 160, 172, 139, 146, 158, 223,  96,   9,\n",
       "        174,  22,  81],\n",
       "       [163,  32, 248,  74, 203,  89, 144,  62,  58,  68, 127,  41,   1,\n",
       "        246,  44, 177],\n",
       "       [222, 213,  41, 243, 210, 171,  77, 134, 146,  84, 163, 250,  24,\n",
       "         73,  69, 154],\n",
       "       [127, 214,  55,   0, 224, 121,   0, 192, 115,  78, 217, 246,  23,\n",
       "        196, 191,  16],\n",
       "       [ 67,  24, 218,  98, 108, 148, 172, 140, 199, 216, 113,  13, 202,\n",
       "        130,  60,   1]])"
      ]
     },
     "execution_count": 20,
     "metadata": {},
     "output_type": "execute_result"
    }
   ],
   "source": [
    "image = np.random.randint(0,255,(16,16)) # range of values using \",\" then , (rows, columes) -> does it randomly\n",
    "image"
   ]
  },
  {
   "cell_type": "code",
   "execution_count": 21,
   "id": "982f7923-5ad8-491e-898f-157f8480a458",
   "metadata": {},
   "outputs": [
    {
     "data": {
      "text/plain": [
       "<matplotlib.image.AxesImage at 0x76ccf1f0acf0>"
      ]
     },
     "execution_count": 21,
     "metadata": {},
     "output_type": "execute_result"
    },
    {
     "data": {
      "image/png": "[encoded data removed]",
      "text/plain": [
       "<Figure size 640x480 with 1 Axes>"
      ]
     },
     "metadata": {},
     "output_type": "display_data"
    }
   ],
   "source": [
    "import matplotlib.pyplot as plt\n",
    "plt.imshow(image) #imshow -> image show"
   ]
  },
  {
   "cell_type": "code",
   "execution_count": 35,
   "id": "f441e6a8-0f06-419d-865f-f3649870bafb",
   "metadata": {},
   "outputs": [
    {
     "data": {
      "text/plain": [
       "<matplotlib.image.AxesImage at 0x76ccecc7bed0>"
      ]
     },
     "execution_count": 35,
     "metadata": {},
     "output_type": "execute_result"
    },
    {
     "data": {
      "image/png": "[encoded data removed]",
      "text/plain": [
       "<Figure size 640x480 with 1 Axes>"
      ]
     },
     "metadata": {},
     "output_type": "display_data"
    }
   ],
   "source": [
    "plt.imshow(image,cmap='gray') # difine color map (cmap) "
   ]
  },
  {
   "cell_type": "code",
   "execution_count": 37,
   "id": "48116496-17dc-4941-ad9f-e18be8f38da2",
   "metadata": {},
   "outputs": [
    {
     "data": {
      "text/plain": [
       "array([ 0, 10, 20])"
      ]
     },
     "execution_count": 37,
     "metadata": {},
     "output_type": "execute_result"
    }
   ],
   "source": [
    "image_row = np.arange(0,30,10) #start stop step\n",
    "image_row\n",
    "#if it is for 2d we can use both rows and columes -> 0 : 8, 6: 8"
   ]
  },
  {
   "cell_type": "code",
   "execution_count": 44,
   "id": "6bc0a745-cb56-40a7-a2bc-8e00867cd203",
   "metadata": {},
   "outputs": [],
   "source": [
    "black_matrix = np.zeros((8, 8), dtype=int) "
   ]
  },
  {
   "cell_type": "code",
   "execution_count": 45,
   "id": "7d7586f8-338d-48d0-afdd-f35681831064",
   "metadata": {},
   "outputs": [
    {
     "data": {
      "text/plain": [
       "array([[0, 0, 0, 0, 0, 0, 0, 0],\n",
       "       [0, 0, 0, 0, 0, 0, 0, 0],\n",
       "       [0, 0, 0, 0, 0, 0, 0, 0],\n",
       "       [0, 0, 0, 0, 0, 0, 0, 0],\n",
       "       [0, 0, 0, 0, 0, 0, 0, 0],\n",
       "       [0, 0, 0, 0, 0, 0, 0, 0],\n",
       "       [0, 0, 0, 0, 0, 0, 0, 0],\n",
       "       [0, 0, 0, 0, 0, 0, 0, 0]])"
      ]
     },
     "execution_count": 45,
     "metadata": {},
     "output_type": "execute_result"
    }
   ],
   "source": [
    "black_matrix"
   ]
  },
  {
   "cell_type": "code",
   "execution_count": 46,
   "id": "b55b2616-4b05-4384-a960-4bc5c9a7f75f",
   "metadata": {},
   "outputs": [
    {
     "data": {
      "text/plain": [
       "<matplotlib.image.AxesImage at 0x76cceca179d0>"
      ]
     },
     "execution_count": 46,
     "metadata": {},
     "output_type": "execute_result"
    },
    {
     "data": {
      "image/png": "[encoded data removed]",
      "text/plain": [
       "<Figure size 640x480 with 1 Axes>"
      ]
     },
     "metadata": {},
     "output_type": "display_data"
    }
   ],
   "source": [
    "plt.imshow(black_matrix, cmap='grey')"
   ]
  },
  {
   "cell_type": "code",
   "execution_count": 47,
   "id": "4c87eb40-3bb6-4e45-83e6-3f6445d82a78",
   "metadata": {},
   "outputs": [
    {
     "ename": "IndexError",
     "evalue": "too many indices for array: array is 1-dimensional, but 2 were indexed",
     "output_type": "error",
     "traceback": [
      "\u001b[0;31m---------------------------------------------------------------------------\u001b[0m",
      "\u001b[0;31mIndexError\u001b[0m                                Traceback (most recent call last)",
      "Cell \u001b[0;32mIn[47], line 1\u001b[0m\n\u001b[0;32m----> 1\u001b[0m chess_img[\u001b[38;5;241m4\u001b[39m:\u001b[38;5;241m10\u001b[39m, \u001b[38;5;241m6\u001b[39m:\u001b[38;5;241m10\u001b[39m] \u001b[38;5;241m=\u001b[39m \u001b[38;5;241m255\u001b[39m\n\u001b[1;32m      2\u001b[0m plt\u001b[38;5;241m.\u001b[39mimshow(chess_img, cmap\u001b[38;5;241m=\u001b[39m\u001b[38;5;124m'\u001b[39m\u001b[38;5;124mgrey\u001b[39m\u001b[38;5;124m'\u001b[39m)\n",
      "\u001b[0;31mIndexError\u001b[0m: too many indices for array: array is 1-dimensional, but 2 were indexed"
     ]
    }
   ],
   "source": []
  },
  {
   "cell_type": "code",
   "execution_count": null,
   "id": "58cca5dc-7440-4b3e-ac55-b5b6c7424e5a",
   "metadata": {},
   "outputs": [],
   "source": []
  }
 ],
 "metadata": {
  "kernelspec": {
   "display_name": "Python 3 (ipykernel)",
   "language": "python",
   "name": "python3"
  },
  "language_info": {
   "codemirror_mode": {
    "name": "ipython",
    "version": 3
   },
   "file_extension": ".py",
   "mimetype": "text/x-python",
   "name": "python",
   "nbconvert_exporter": "python",
   "pygments_lexer": "ipython3",
   "version": "3.13.5"
  }
 },
 "nbformat": 4,
 "nbformat_minor": 5
}
